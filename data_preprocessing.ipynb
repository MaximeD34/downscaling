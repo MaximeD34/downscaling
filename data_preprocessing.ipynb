{
 "cells": [
  {
   "cell_type": "code",
   "execution_count": 1,
   "metadata": {},
   "outputs": [],
   "source": [
    "import torch"
   ]
  },
  {
   "cell_type": "code",
   "execution_count": 2,
   "metadata": {},
   "outputs": [],
   "source": [
    "import numpy as np\n",
    "import matplotlib.pyplot as plt"
   ]
  },
  {
   "cell_type": "code",
   "execution_count": 224,
   "metadata": {},
   "outputs": [],
   "source": [
    "from data_raw_loading import loadAllSimulation\n",
    "\n",
    "dataLR = loadAllSimulation(\"raw_data/donnees_2D\", \"LR\")\n",
    "dataHR = loadAllSimulation(\"raw_data/donnees_2D\", \"HR\")"
   ]
  },
  {
   "cell_type": "code",
   "execution_count": 225,
   "metadata": {},
   "outputs": [
    {
     "data": {
      "text/plain": [
       "(torch.Size([14, 601, 2, 1, 50]), torch.Size([14, 601, 2, 5, 250]))"
      ]
     },
     "execution_count": 225,
     "metadata": {},
     "output_type": "execute_result"
    }
   ],
   "source": [
    "dataLR.shape, dataHR.shape"
   ]
  },
  {
   "cell_type": "code",
   "execution_count": null,
   "metadata": {},
   "outputs": [],
   "source": [
    "#serialize the data\n",
    "\n",
    "metadataLR = {\n",
    "    \"description\" : \"14 simulation of low resolution data\",\n",
    "    \"tensor shape\" : \"(S, T, C, row, col) where S is the number of simulations, T is the number of time steps, C is the number of channels, row is the number of rows and col is the number of columns\"\n",
    "}\n",
    "metadataHR = {\n",
    "    \"description\" : \"14 simulation of high resolution data\",\n",
    "    \"tensor shape\" : \"(S, T, C, row, col) where S is the number of simulations, T is the number of time steps, C is the number of channels, row is the number of rows and col is the number of columns\"\n",
    "}\n",
    "\n",
    "dataLR_with_metadata = {\n",
    "    \"metadata\" : metadataLR,\n",
    "    \"data\" : dataLR\n",
    "}\n",
    "\n",
    "dataHR_with_metadata = {\n",
    "    \"metadata\" : metadataHR,\n",
    "    \"data\" : dataHR\n",
    "}\n",
    "\n",
    "torch.save(dataLR_with_metadata, \"serialized_data/dataLR.pt\")\n",
    "torch.save(dataHR_with_metadata, \"serialized_data/dataHR.pt\")"
   ]
  },
  {
   "cell_type": "code",
   "execution_count": 222,
   "metadata": {},
   "outputs": [],
   "source": [
    "#load the data\n",
    "dataLR2 = torch.load(\"serialized_data/dataLR.pt\")\n",
    "dataHR2 = torch.load(\"serialized_data/dataHR.pt\")"
   ]
  }
 ],
 "metadata": {
  "kernelspec": {
   "display_name": "Python 3",
   "language": "python",
   "name": "python3"
  },
  "language_info": {
   "codemirror_mode": {
    "name": "ipython",
    "version": 3
   },
   "file_extension": ".py",
   "mimetype": "text/x-python",
   "name": "python",
   "nbconvert_exporter": "python",
   "pygments_lexer": "ipython3",
   "version": "3.10.12"
  }
 },
 "nbformat": 4,
 "nbformat_minor": 2
}
